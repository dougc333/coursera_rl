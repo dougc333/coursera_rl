{
 "cells": [
  {
   "cell_type": "markdown",
   "id": "db136934-9997-4542-84b2-a0c491dafdd2",
   "metadata": {},
   "source": [
    "# summary module 3"
   ]
  },
  {
   "cell_type": "markdown",
   "id": "68c174b6-ae8c-44b7-872e-c66e07ebcdec",
   "metadata": {},
   "source": [
    "<h3>Video: </h3>\n",
    "<h3>Video:</h3>\n",
    "<h3>Video:</h3>\n",
    "<h3>Video:</h3>\n",
    "<h3>Video:</h3>\n",
    "<h3>Video:</h3>\n",
    "<h3>Video:</h3>\n",
    "<h3>Video:</h3>\n"
   ]
  }
 ],
 "metadata": {
  "kernelspec": {
   "display_name": "Python 3 (ipykernel)",
   "language": "python",
   "name": "python3"
  },
  "language_info": {
   "codemirror_mode": {
    "name": "ipython",
    "version": 3
   },
   "file_extension": ".py",
   "mimetype": "text/x-python",
   "name": "python",
   "nbconvert_exporter": "python",
   "pygments_lexer": "ipython3",
   "version": "3.11.11"
  }
 },
 "nbformat": 4,
 "nbformat_minor": 5
}
