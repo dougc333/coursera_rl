{
 "cells": [
  {
   "cell_type": "markdown",
   "id": "4a7ee548-27d1-4873-bbe1-27eefc5f97f1",
   "metadata": {},
   "source": [
    "<img src=\"./images_module3/1_3.png\">\n"
   ]
  },
  {
   "cell_type": "code",
   "execution_count": null,
   "id": "f318bbee-6ff8-4bfb-9e22-9f84658b940b",
   "metadata": {},
   "outputs": [],
   "source": []
  },
  {
   "cell_type": "markdown",
   "id": "bf775864-e501-45ee-84c4-99a6876ad1a4",
   "metadata": {},
   "source": [
    "<img src=\"./images_module3/4_6.png\">"
   ]
  },
  {
   "cell_type": "code",
   "execution_count": null,
   "id": "00cb6de7-a88d-4c1b-bae7-95e41c3cfe2c",
   "metadata": {},
   "outputs": [],
   "source": []
  },
  {
   "cell_type": "markdown",
   "id": "ae43ecee-e4be-4ccd-9c1c-630e60047056",
   "metadata": {},
   "source": [
    "<img src=\"./images_module3/7_8.png\">"
   ]
  },
  {
   "cell_type": "code",
   "execution_count": null,
   "id": "f651be69-5c02-4640-84dc-eb996500273c",
   "metadata": {},
   "outputs": [],
   "source": []
  },
  {
   "cell_type": "markdown",
   "id": "5154a40a-9c52-4196-92ea-82e6bd496c81",
   "metadata": {},
   "source": [
    "<img src=\"./images_module3/9a.png\">"
   ]
  },
  {
   "cell_type": "code",
   "execution_count": null,
   "id": "110a9ce0-43ae-4fcb-9b8a-702ab794ccc6",
   "metadata": {},
   "outputs": [],
   "source": []
  },
  {
   "cell_type": "markdown",
   "id": "875bdff4-f530-41cd-b787-32884f8fe98c",
   "metadata": {},
   "source": [
    "<img src=\"./images_module3/9b.png\">"
   ]
  },
  {
   "cell_type": "markdown",
   "id": "641555fd-1bfe-4b46-8d87-bdc76fb4cc16",
   "metadata": {},
   "source": [
    "<img src=\"./images_module3/9c.png\">"
   ]
  },
  {
   "cell_type": "markdown",
   "id": "32cab5f8-f719-47ea-83f7-648b33ff1369",
   "metadata": {},
   "source": [
    "<img src=\"./images_module3/10_11.png\">"
   ]
  },
  {
   "cell_type": "code",
   "execution_count": null,
   "id": "fc61f79d-82b2-4d3c-ad38-e10a89a919f2",
   "metadata": {},
   "outputs": [],
   "source": []
  }
 ],
 "metadata": {
  "kernelspec": {
   "display_name": "Python 3 (ipykernel)",
   "language": "python",
   "name": "python3"
  },
  "language_info": {
   "codemirror_mode": {
    "name": "ipython",
    "version": 3
   },
   "file_extension": ".py",
   "mimetype": "text/x-python",
   "name": "python",
   "nbconvert_exporter": "python",
   "pygments_lexer": "ipython3",
   "version": "3.11.11"
  }
 },
 "nbformat": 4,
 "nbformat_minor": 5
}
