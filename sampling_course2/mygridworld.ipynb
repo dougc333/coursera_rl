{
 "cells": [
  {
   "cell_type": "code",
   "execution_count": null,
   "id": "8cc84734-b5ea-4b1e-b6fb-42ead376b4c2",
   "metadata": {},
   "outputs": [],
   "source": [
    "import torch\n"
   ]
  },
  {
   "cell_type": "code",
   "execution_count": null,
   "id": "fd2a1759-e19a-4462-829d-f5e383ff1d62",
   "metadata": {},
   "outputs": [],
   "source": [
    "class GridWorld:\n",
    "    def __init__(self):\n",
    "        self.num_states = 4\n",
    "        self.grid = torch.zeros(self.num_states, self.num_states)\n",
    "        "
   ]
  }
 ],
 "metadata": {
  "kernelspec": {
   "display_name": "Python 3 (ipykernel)",
   "language": "python",
   "name": "python3"
  },
  "language_info": {
   "codemirror_mode": {
    "name": "ipython",
    "version": 3
   },
   "file_extension": ".py",
   "mimetype": "text/x-python",
   "name": "python",
   "nbconvert_exporter": "python",
   "pygments_lexer": "ipython3",
   "version": "3.11.11"
  }
 },
 "nbformat": 4,
 "nbformat_minor": 5
}
