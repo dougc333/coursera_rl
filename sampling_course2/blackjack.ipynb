{
 "cells": [
  {
   "cell_type": "code",
   "execution_count": 1,
   "id": "cba5e88c-2a64-4ae6-bc70-b27496cc2581",
   "metadata": {},
   "outputs": [
    {
     "data": {
      "image/png": "[encoded data removed]",
      "text/plain": [
       "<Figure size 1200x500 with 4 Axes>"
      ]
     },
     "metadata": {},
     "output_type": "display_data"
    }
   ],
   "source": [
    "import random\n",
    "from collections import defaultdict\n",
    "import matplotlib.pyplot as plt\n",
    "import numpy as np\n",
    "\n",
    "# Draw one card (1 to 13, face cards count as 10)\n",
    "def draw_card():\n",
    "    return min(random.randint(1, 13), 10)\n",
    "\n",
    "# Draw a starting hand\n",
    "def draw_hand():\n",
    "    return [draw_card(), draw_card()]\n",
    "\n",
    "# Whether the hand has a usable ace\n",
    "def usable_ace(hand):\n",
    "    return 1 in hand and sum(hand) + 10 <= 21\n",
    "\n",
    "# Total value of a hand\n",
    "def hand_value(hand):\n",
    "    val = sum(hand)\n",
    "    return val + 10 if usable_ace(hand) else val\n",
    "\n",
    "# Whether the hand is bust\n",
    "def is_bust(hand):\n",
    "    return hand_value(hand) > 21\n",
    "\n",
    "# Simple policy: stick if 20+, hit otherwise\n",
    "def policy(player_sum):\n",
    "    return 0 if player_sum >= 20 else 1  # 0 = stick, 1 = hit\n",
    "\n",
    "# Simulate one episode of blackjack\n",
    "def play_game(policy_fn):\n",
    "    player = draw_hand()\n",
    "    dealer = draw_hand()\n",
    "\n",
    "    while policy_fn(hand_value(player)) == 1:\n",
    "        player.append(draw_card())\n",
    "        if is_bust(player):\n",
    "            return (player, dealer), -1  # Player busts\n",
    "\n",
    "    while hand_value(dealer) < 17:\n",
    "        dealer.append(draw_card())\n",
    "\n",
    "    player_score = hand_value(player)\n",
    "    dealer_score = hand_value(dealer)\n",
    "\n",
    "    if is_bust(dealer) or player_score > dealer_score:\n",
    "        return (player, dealer), 1\n",
    "    elif player_score < dealer_score:\n",
    "        return (player, dealer), -1\n",
    "    else:\n",
    "        return (player, dealer), 0\n",
    "\n",
    "# Monte Carlo prediction\n",
    "returns = defaultdict(list)\n",
    "V = defaultdict(float)\n",
    "\n",
    "for i in range(500000):\n",
    "    (player, _), reward = play_game(policy)\n",
    "    state = (hand_value(player), usable_ace(player))\n",
    "    returns[state].append(reward)\n",
    "    V[state] = sum(returns[state]) / len(returns[state])\n",
    "\n",
    "# Visualize the state-value function\n",
    "usable = np.zeros((10, 10))\n",
    "no_usable = np.zeros((10, 10))\n",
    "\n",
    "for player in range(12, 22):\n",
    "    for dealer in range(1, 11):\n",
    "        s_usable = (player, True)\n",
    "        s_nousable = (player, False)\n",
    "        if s_usable in V:\n",
    "            usable[player - 12, dealer - 1] = V[s_usable]\n",
    "        if s_nousable in V:\n",
    "            no_usable[player - 12, dealer - 1] = V[s_nousable]\n",
    "\n",
    "fig, axs = plt.subplots(1, 2, figsize=(12, 5))\n",
    "c1 = axs[0].imshow(usable, cmap='coolwarm', origin='lower')\n",
    "axs[0].set_title('Usable Ace')\n",
    "axs[0].set_xlabel('Dealer Showing')\n",
    "axs[0].set_ylabel('Player Sum')\n",
    "fig.colorbar(c1, ax=axs[0])\n",
    "\n",
    "c2 = axs[1].imshow(no_usable, cmap='coolwarm', origin='lower')\n",
    "axs[1].set_title('No Usable Ace')\n",
    "axs[1].set_xlabel('Dealer Showing')\n",
    "axs[1].set_ylabel('Player Sum')\n",
    "fig.colorbar(c2, ax=axs[1])\n",
    "\n",
    "plt.tight_layout()\n",
    "plt.show()"
   ]
  },
  {
   "cell_type": "code",
   "execution_count": 6,
   "id": "b2cbb58c-0e88-4b0f-9fbe-c2ba236d672f",
   "metadata": {},
   "outputs": [],
   "source": [
    "import numpy as np\n",
    "np.random.seed(42)\n",
    "\n",
    "class MyBlackjack:\n",
    "    def __init__(self):\n",
    "        print(\"blackjack\")\n",
    "    def drawcard(self):\n",
    "        card = np.random.randint(1, high=13, size=None, dtype='l')  \n",
    "        return card"
   ]
  },
  {
   "cell_type": "code",
   "execution_count": 7,
   "id": "4f5cbfd9-ed62-4191-b0cd-b8fb5ba5d5d2",
   "metadata": {},
   "outputs": [
    {
     "name": "stdout",
     "output_type": "stream",
     "text": [
      "blackjack\n",
      "7\n",
      "4\n",
      "11\n"
     ]
    }
   ],
   "source": [
    "b = MyBlackjack()\n",
    "print(b.drawcard())\n",
    "print(b.drawcard())\n",
    "print(b.drawcard())\n"
   ]
  },
  {
   "cell_type": "code",
   "execution_count": null,
   "id": "ba8ccc43-f93e-4e9f-9f2c-c8bc2534607f",
   "metadata": {},
   "outputs": [],
   "source": []
  }
 ],
 "metadata": {
  "kernelspec": {
   "display_name": "Python 3 (ipykernel)",
   "language": "python",
   "name": "python3"
  },
  "language_info": {
   "codemirror_mode": {
    "name": "ipython",
    "version": 3
   },
   "file_extension": ".py",
   "mimetype": "text/x-python",
   "name": "python",
   "nbconvert_exporter": "python",
   "pygments_lexer": "ipython3",
   "version": "3.11.11"
  }
 },
 "nbformat": 4,
 "nbformat_minor": 5
}
