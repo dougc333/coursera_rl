{
 "cells": [
  {
   "cell_type": "code",
   "execution_count": 1,
   "id": "beb0b401-f66a-458c-97e8-f6dc5c55b04b",
   "metadata": {},
   "outputs": [],
   "source": [
    "import torch\n",
    "import torch.nn as nn\n",
    "import torch.optim as optim\n",
    "import numpy as np\n",
    "import random\n",
    "\n",
    "class QNetwork(nn.Module):\n",
    "    def __init__(self, input_dim):\n",
    "        super().__init__()\n",
    "        self.layers = nn.Sequential(\n",
    "            nn.Linear(input_dim, 64),\n",
    "            nn.ReLU(),\n",
    "            nn.Linear(64, 1)\n",
    "        )\n",
    "    def forward(self, x):\n",
    "        return self.layers(x)\n",
    "\n",
    "def extract_features(code):\n",
    "    return np.array([\n",
    "        len(code),\n",
    "        code.count(\"for\"),\n",
    "        code.count(\"if\"),\n",
    "        code.count(\"return\")\n",
    "    ], dtype=np.float32)\n",
    "\n",
    "def generate_dataset():\n",
    "    codes = [\n",
    "        \"def add(x, y): return x + y\",\n",
    "        \"def loop(n): for i in range(n): print(i)\",\n",
    "        \"def cond(x): return x if x > 0 else -x\",\n",
    "        \"def bad(): return 1 / 0\"\n",
    "    ]\n",
    "    rewards = [1.0, 0.5, 0.8, -1.0]\n",
    "    return [(extract_features(c), r) for c, r in zip(codes, rewards)]\n",
    "\n",
    "def train_q():\n",
    "    data = generate_dataset()\n",
    "    net = QNetwork(input_dim=4)\n",
    "    opt = optim.Adam(net.parameters(), lr=0.01)\n",
    "    loss_fn = nn.MSELoss()\n",
    "\n",
    "    for epoch in range(100):\n",
    "        random.shuffle(data)\n",
    "        total_loss = 0\n",
    "        for feat, reward in data:\n",
    "            x = torch.tensor(feat).float().unsqueeze(0)\n",
    "            y = torch.tensor([[reward]]).float()\n",
    "            pred = net(x)\n",
    "            loss = loss_fn(pred, y)\n",
    "            opt.zero_grad()\n",
    "            loss.backward()\n",
    "            opt.step()\n",
    "            total_loss += loss.item()\n",
    "        if epoch % 10 == 0:\n",
    "            print(f\"Epoch {epoch} | Loss: {total_loss:.4f}\")\n",
    "    return net"
   ]
  },
  {
   "cell_type": "code",
   "execution_count": null,
   "id": "fae3ec05-cb30-43a1-8b28-b15b0011c381",
   "metadata": {},
   "outputs": [],
   "source": []
  }
 ],
 "metadata": {
  "kernelspec": {
   "display_name": "Python 3 (ipykernel)",
   "language": "python",
   "name": "python3"
  },
  "language_info": {
   "codemirror_mode": {
    "name": "ipython",
    "version": 3
   },
   "file_extension": ".py",
   "mimetype": "text/x-python",
   "name": "python",
   "nbconvert_exporter": "python",
   "pygments_lexer": "ipython3",
   "version": "3.11.11"
  }
 },
 "nbformat": 4,
 "nbformat_minor": 5
}
