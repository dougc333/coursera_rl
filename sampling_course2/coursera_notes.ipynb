{
 "cells": [
  {
   "cell_type": "markdown",
   "id": "083b2a4f-6f5b-4ec7-833e-7cc291fd3c71",
   "metadata": {},
   "source": [
    "<img src=\"./images/1_3.png\"/>"
   ]
  },
  {
   "cell_type": "markdown",
   "id": "d668a8cb-82d6-4241-b8a1-521d6a57833d",
   "metadata": {},
   "source": [
    "1) all checked\n",
    "2 is no, no , yes, yes\n",
    "2) when the problem is continuous, mc wont work unless there is a discount factor applied. You can use truncated n-step return which is applying MC in a rolling window $G_t^{(n)}=\\sum\\limits_{k=0}^{n-1}\\gamma^kR_{t+k+1}$\n",
    "\n",
    " when the problem is continuous there is no termination which means there is no way to calculate without some sort of window.\n",
    " When the problem is continuous and the model produces samples of the next state and reward, no.\n",
    " episodic yes to both\n",
    " 3) off policy requires 2 policies, a target policy and a learning policy\n",
    " no , no\n",
    " "
   ]
  },
  {
   "cell_type": "markdown",
   "id": "4cfadae4-bbd0-4cdd-a574-93d9512ec4e5",
   "metadata": {},
   "source": [
    "<img src=\"./images/4_5.png\"/>"
   ]
  },
  {
   "cell_type": "code",
   "execution_count": null,
   "id": "b6399c06-bedc-4e2d-bad3-0bd4ff76434c",
   "metadata": {},
   "outputs": [],
   "source": [
    "4) the importance sampling ratio d) is same? no d is not a product\n",
    "5) when q(s,a) are available or v(s)+model; a), c)"
   ]
  },
  {
   "cell_type": "markdown",
   "id": "a66922ff-0a12-477b-a1ca-d2bdc785e85a",
   "metadata": {},
   "source": [
    "<img src=\"./images/6_8.png\"/>"
   ]
  },
  {
   "cell_type": "code",
   "execution_count": null,
   "id": "af8a1f2c-5599-42c4-8d35-ce932afcbd91",
   "metadata": {},
   "outputs": [],
   "source": [
    "6) a) no, sampling sample returns yes. . Need to average the returns after vistiting the states or state action pairs. Need some exploration. Maybe for c)\n",
    "d) both correct a, d\n",
    "7) suppose state visited 3 times with returns 8, 4, 3, what is MC estimate for value of s? 8+4+3/3 = 5\n",
    "8)  when does MC prediction perform itsf first update? c) \n"
   ]
  },
  {
   "cell_type": "markdown",
   "id": "f7bd0c98-560c-42b6-b70a-3a4204371a34",
   "metadata": {},
   "source": [
    "<img src=\"./images/9_10.png\"/>"
   ]
  },
  {
   "cell_type": "code",
   "execution_count": null,
   "id": "1dc45c25-b757-4df3-8dd1-9fd5d084eb4f",
   "metadata": {},
   "outputs": [],
   "source": [
    "9) number of actions in each state\n",
    "\n",
    "c) "
   ]
  }
 ],
 "metadata": {
  "kernelspec": {
   "display_name": "Python 3 (ipykernel)",
   "language": "python",
   "name": "python3"
  },
  "language_info": {
   "codemirror_mode": {
    "name": "ipython",
    "version": 3
   },
   "file_extension": ".py",
   "mimetype": "text/x-python",
   "name": "python",
   "nbconvert_exporter": "python",
   "pygments_lexer": "ipython3",
   "version": "3.11.11"
  }
 },
 "nbformat": 4,
 "nbformat_minor": 5
}
