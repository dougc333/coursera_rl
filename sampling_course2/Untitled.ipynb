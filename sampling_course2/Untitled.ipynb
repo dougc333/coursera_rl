{
 "cells": [
  {
   "cell_type": "markdown",
   "id": "5113b0c5-6907-4529-81b5-378fd1f0ebd9",
   "metadata": {},
   "source": [
    "<h1>TD and MonteCarlo</h1>\n",
    "<h2>Monte Carlo: $V(S_t)<-V(S_t) + \\alpha*[G_t - V(S_t)]$</h2>\n",
    "<h2>TD(0): $V(S_t)<-V(S_t)+\\alpha*[R_{t+1}+\\gamma*V(S_{t+1}) - V(S_t) ] $</h2>"
   ]
  },
  {
   "cell_type": "markdown",
   "id": "30114577-55a4-4af6-821f-66d7ad7e4c8b",
   "metadata": {},
   "source": []
  }
 ],
 "metadata": {
  "kernelspec": {
   "display_name": "Python 3 (ipykernel)",
   "language": "python",
   "name": "python3"
  },
  "language_info": {
   "codemirror_mode": {
    "name": "ipython",
    "version": 3
   },
   "file_extension": ".py",
   "mimetype": "text/x-python",
   "name": "python",
   "nbconvert_exporter": "python",
   "pygments_lexer": "ipython3",
   "version": "3.9.21"
  }
 },
 "nbformat": 4,
 "nbformat_minor": 5
}
