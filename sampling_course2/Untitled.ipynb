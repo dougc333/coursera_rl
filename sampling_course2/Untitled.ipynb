{
 "cells": [
  {
   "cell_type": "markdown",
   "id": "d99407a7-c5da-458e-848b-9f1c0c3d539c",
   "metadata": {},
   "source": [
    "<h1>Sample Based Learning Methods</h1>\n",
    "<h2>Intro to Monte Carlo methods</h2>\n",
    "<h3>What is monte carlo</h3>\n",
    "<h3>Using monte carlo for prediction</h3>\n",
    "<h2>Monte Carlo for Control</h2>\n",
    "<h3>Usign Monte Carlo for Action Values</h3>\n",
    "<p></p>\n",
    "<h3>Using monte carlo mehtods for generalized policy iteration</h3>\n",
    "<h3>Solving the blackjack example</h3>\n",
    "<h2>Exploration methods fro MOnte Carlo</h2>\n",
    "<h3>Epsilon Soft policies</h3>\n",
    "<h2>Off Policy Learning for Prediction</h2>\n",
    "<h3>Video: Why does off policy learning matter</h3>\n",
    "\n",
    "<h3>Video: Importance Sampling</h3>\n",
    "<h3>Video: Off policy Monte Carlo prediction</h3>\n",
    "<h3>Video: Batch Reinforcrment learning</h3>\n",
    "<h3>Video: Week1 summary</h3>"
   ]
  },
  {
   "cell_type": "markdown",
   "id": "30114577-55a4-4af6-821f-66d7ad7e4c8b",
   "metadata": {},
   "source": []
  }
 ],
 "metadata": {
  "kernelspec": {
   "display_name": "Python 3 (ipykernel)",
   "language": "python",
   "name": "python3"
  },
  "language_info": {
   "codemirror_mode": {
    "name": "ipython",
    "version": 3
   },
   "file_extension": ".py",
   "mimetype": "text/x-python",
   "name": "python",
   "nbconvert_exporter": "python",
   "pygments_lexer": "ipython3",
   "version": "3.11.11"
  }
 },
 "nbformat": 4,
 "nbformat_minor": 5
}
