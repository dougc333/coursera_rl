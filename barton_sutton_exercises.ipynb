{
 "cells": [
  {
   "cell_type": "code",
   "execution_count": null,
   "id": "b563b637-06b3-4f9c-9d4d-a123bae2f6db",
   "metadata": {},
   "outputs": [],
   "source": [
    "# Book exercises\n"
   ]
  },
  {
   "cell_type": "code",
   "execution_count": null,
   "id": "b7c1d14d-6dbe-41ec-9840-c2e8002b3d22",
   "metadata": {},
   "outputs": [],
   "source": []
  },
  {
   "cell_type": "code",
   "execution_count": null,
   "id": "2f8e121d-961f-4349-87a0-47460525ee1d",
   "metadata": {},
   "outputs": [],
   "source": []
  },
  {
   "cell_type": "code",
   "execution_count": null,
   "id": "30eab35e-3a8e-4397-9f4a-cd8261a8a4e5",
   "metadata": {},
   "outputs": [],
   "source": []
  },
  {
   "cell_type": "code",
   "execution_count": null,
   "id": "c15d195e-8f49-4044-8995-0943b1b34ab0",
   "metadata": {},
   "outputs": [],
   "source": []
  },
  {
   "cell_type": "markdown",
   "id": "41a12779-3f8f-4d50-a32b-7fe15abe7c8b",
   "metadata": {},
   "source": [
    "Exercise 2.5 (programming) Design and conduct an experiment to demonstrate the difficulties that sample-average methods have for nonstationary problems. Use a modified version of the 10-armed testbed in which all the $q_*(a)$ start out equal and then take independent random walks (say by adding a normally distributed increment with mean zero and standard deviation 0.01 to all the $q_*(a)$ on each step). Prepare plots like Figure 2.2 for an action-value method using sample averages, incrementally computed, and another action-value method using a constant step-size parameter, $\\alpha = 0.1$. Use $\\epsilon = 0.1$ and longer runs, say of 10,000 steps."
   ]
  },
  {
   "cell_type": "markdown",
   "id": "e11d9f86-b38d-45c1-adc1-6b6b3de1ef70",
   "metadata": {},
   "source": [
    "Exercise 2.6: Mysterious Spikes The results shown in Figure 2.3 should be quite reliable because they are averages over 2000 individual, randomly chosen 10-armed bandit tasks. Why, then, are there oscillations and spikes in the early part of the curve for the optimistic method? In other words, what might make this method perform particularly better or worse, on average, on particular early steps?"
   ]
  },
  {
   "cell_type": "markdown",
   "id": "49f62d26-b4a2-4e81-a703-a22a3f4d405a",
   "metadata": {},
   "source": [
    "Exercise 2.7: Unbiased Constant-Step-Size Trick In most of this chapter we have used sample averages to estimate action values because sample averages do not produce the initial bias that constant step sizes do (see the analysis leading to (2.6)). However, sample averages are not a completely satisfactory solution because they may perform poorly on nonstationary problems. Is it possible to avoid the bias of constant step sizes while retaining their advantages on nonstationary problems? One way is to use a step size of\n",
    "\u0000n =. ↵/o ̄n, (2.8) to process the nth reward for a particular action, where ↵ > 0 is a conventional constant\n",
    "step size, and o ̄n is a trace of one that starts at 0:\n",
    "o ̄n=.o ̄n\u00001+↵(1\u0000o ̄n\u00001), forn\u00000, witho ̄0=.0. (2.9)\n",
    "Carry out an analysis like that in (2.6) to show that Qn is an exponential recency-weighted average without initial bias."
   ]
  },
  {
   "cell_type": "markdown",
   "id": "551aa551-6aa6-444b-880f-86853ab03cd0",
   "metadata": {},
   "source": [
    "Exercise 2.8: UCB Spikes In Figure 2.4 the UCB algorithm shows a distinct spike in performance on the 11th step. Why is this? Note that for your answer to be fully satisfactory it must explain both why the reward increases on the 11th step and why it decreases on the subsequent steps. Hint: if c = 1, then the spike is less prominent."
   ]
  },
  {
   "cell_type": "markdown",
   "id": "89f08047-17bc-4a11-914a-903037165343",
   "metadata": {},
   "source": [
    "Exercise 2.9 Show that in the case of two actions, the soft-max distribution is the same as that given by the logistic, or sigmoid, function often used in statistics and artificial neural networks."
   ]
  },
  {
   "cell_type": "markdown",
   "id": "de9c7b68-04a7-47b3-9558-cd0d21de54e3",
   "metadata": {},
   "source": [
    "\n",
    "Exercise 2.10 Suppose you face a 2-armed bandit task whose true action values change randomly from time step to time step. Specifically, suppose that, for any time step, the true values of actions 1 and 2 are respectively 0.1 and 0.2 with probability 0.5 (case A), and 0.9 and 0.8 with probability 0.5 (case B). If you are not able to tell which case you face at any step, what is the best expectation of success you can achieve and how should you behave to achieve it? Now suppose that on each step you are told whether you are facing case A or case B (although you still don’t know the true action values). This is an associative search task. What is the best expectation of success you can achieve in this task, and how should you behave to achieve it?"
   ]
  },
  {
   "cell_type": "markdown",
   "id": "0b59d5a3-40e7-431e-81f4-8231ee20a29d",
   "metadata": {},
   "source": [
    "<h4>Exercise 2.4 If the step-size parameters, $\\alpha_n$, are not constant, then the estimate Qn is a weighted average of previously received rewards with a weighting different from that given by (2.6). What is the weighting on each prior reward for the general case, analogous to (2.6), in terms of the sequence of step-size parameters?</h4>\n",
    "<h4>Answer: This problem wants a separate $\\alpha$ different for each step. Convert notation to $\\alpha_n$</h4>\n",
    "$Q_{n+1} = Q_n + \\alpha(R_n - Q_n)$\n",
    "<br />\n",
    "<h4>write out a couple steps to see recurrence relation</h4>\n",
    "$Q_0 = 0$\n",
    "<br />\n",
    "$Q_1 = Q_0 + \\alpha_0(R_0-Q_0)$\n",
    "<br />\n",
    "$=\\alpha_0(R_0)$\n",
    "<br />\n",
    "$Q_2 = Q_1 + \\alpha_1(R_1-Q_1)$\n",
    "<br />\n",
    "$=Q_1 + \\alpha_1(R_1 ) - \\alpha_1(Q_1)=Q_1-\\alpha_1(Q_1)+\\alpha_1(R_1)=(1-\\alpha_1)Q_1+\\alpha_1R_1$\n",
    "<br />\n",
    "$=$\n",
    "<br />\n",
    "$Q_3 = Q_2 + \\alpha_2(R_2-Q_2)$\n",
    "<br />\n",
    "$$\n",
    "<br />\n",
    "$$"
   ]
  },
  {
   "cell_type": "markdown",
   "id": "f4af3454-ee57-436a-a188-3de709e27929",
   "metadata": {},
   "source": [
    "<h4>Exercise 2.2 Bandit example Consider a k-armed bandit problem with k = 4 actions, denoted 1, 2, 3, and 4. Consider applying to this problem a bandit algorithm using $\\epsilon$ greedy action selection, sample-average action-value estimates, and initial estimates of Q1(a) = 0, for all a. Suppose the initial sequence of actions and rewards is A1 = 1, R1 =-1,A2 =2,R2 =1,A3 =2,R3 =-2,A4 =2,R4 =2,A5 =3,R5 =0. On some of these time steps the $\\epsilon$ case may have occurred, causing an action to be selected at random. On which time steps did this definitely occur? On which time steps could this possibly have occurred?</h4>\n",
    "<h4>Answer:</h4>\n",
    "<h4>There are 4 arms. </h4>\n",
    "<br/>\n",
    "<h4>Use notation N(1) is number of times arm 1-4 clicked, N(1)=1, N(2)=0, N(3)=0, N(4)=0</h4>\n",
    "means arm 1 was selected once and arms 2,3,4 have no actions. \n",
    "<br />\n",
    "<br />\n",
    "<h4>Time t=1</h4>\n",
    "<h4>select arm1</h4>\n",
    "<h4>We saw in the simulation session the sample avg is $\\frac{1}{num\\_clicks}\\sum\\limits_{i=0}^{num\\_clicks}(R)$ where the num clicks is the number of times the arm is selected. It isn't the number of time steps. In time step 1 arm1 is selected followed by arm2 3 times then arm3 then no arms in time step 5</h4>\n",
    "<br/ >\n",
    "$Q_1(A=a1, arm1) = 0,Q_1(A=a2, arm2) = 0,Q_1(A=a3, arm3) = 0,Q_1(A=a4,arm4) = 0$\n",
    "<br />\n",
    "<h4>N for arm1 is 1, N(1)=1</h4>\n",
    "<h4>select arm1, R=-1 ,the sample avg is $\\frac{1}{N(1)=1}\\sum(R) = \\frac{1}{1}*(0-1)=-1$</h4>\n",
    "$Q=(-1,0,0,0)$\n",
    "<h4>Time t=2</h4>\n",
    "<h4>N for arm2 is 1, N(2)=1</h4>\n",
    "<h4>select arm2, R=1 ,the sample avg is $\\frac{1}{1}\\sum(R) = \\frac{1}{1}*(0+1)=1$</h4>\n",
    "$Q=(-1,1,0,0)$\n",
    "<br />\n",
    "<h4>Time t=3</h4>\n",
    "<h4>N for arm2 is 2, N(2)=2</h4>\n",
    "<h4>select arm2, R= -2 ,the sample avg is $\\frac{1}{2}\\sum(R) = \\frac{1}{2}*(0+1-2)=-0.5$</h4>\n",
    "$Q=(-1,-0.5,0,0)$\n",
    "<br />\n",
    "<h4>Time t=4</h4>\n",
    "<h4>N for arm2 is 3, N(2)=3</h4>\n",
    "<h4>select arm2, R=2 ,the sample avg is $\\frac{1}{3}\\sum(R) = \\frac{1}{3}*(0+1-2+2)= 0.33$</h4>\n",
    "$Q=(-1,1/3,0,0)$\n",
    "<br />\n",
    "<h4>Time t=5</h4>\n",
    "<h4>N for arm3 is 1, N(3)=1</h4>\n",
    "<h4>select arm2, R=2 ,the sample avg is $\\frac{1}{3}\\sum(R) = \\frac{1}{1}*(0+1)= 1$</h4>\n",
    "$Q=(-1,1/3,1,0)$\n",
    "<br />\n",
    "<h4>Time t=6</h4>\n",
    "<br />\n",
    "$Q=(-1,1/3,1,0)$\n",
    "<h4>no actions, state same as aboave </h4>\n"
   ]
  },
  {
   "cell_type": "markdown",
   "id": "27c89967-2fbc-4ec0-bafa-37007e6459b8",
   "metadata": {},
   "source": [
    "<h2 span style=\"color:red\">Warning: the chatgpt answer for 2.2 is incorrect. Does not get N correct</span></h2>"
   ]
  },
  {
   "cell_type": "markdown",
   "id": "eb08837d-714d-4bf0-bc2a-511441991894",
   "metadata": {},
   "source": [
    "<h2>$\\epsilon$ greedy</h2>\n",
    "For stocastic rewards, distributions which change over time. \n",
    "\n",
    "<h4>Exercise 2.1 In greedy action selection, for the case of two actions and epsilon = 0.5, what is the probability that the greedy action is selected?</h4>\n",
    "\n",
    "<h4>Answer:</h4>\n",
    "if there are 2 actions and the greedy action ha probability $\\epsilon$ of being selected then the other non greedy action has probability $1-\\epsilon$ of being selected. If $\\epsilon$ is given as 0.5 then the $P(greedy) = 0.5$ and $P(non greedy)\\ =\\ 1-\\epsilon = 0.5$\n",
    "<br/>\n"
   ]
  },
  {
   "cell_type": "code",
   "execution_count": null,
   "id": "0a5d2a06-f083-402c-b9db-233d3f0300e5",
   "metadata": {},
   "outputs": [],
   "source": []
  }
 ],
 "metadata": {
  "kernelspec": {
   "display_name": "Python 3 (ipykernel)",
   "language": "python",
   "name": "python3"
  },
  "language_info": {
   "codemirror_mode": {
    "name": "ipython",
    "version": 3
   },
   "file_extension": ".py",
   "mimetype": "text/x-python",
   "name": "python",
   "nbconvert_exporter": "python",
   "pygments_lexer": "ipython3",
   "version": "3.11.11"
  }
 },
 "nbformat": 4,
 "nbformat_minor": 5
}
