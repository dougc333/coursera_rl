{
 "cells": [
  {
   "cell_type": "markdown",
   "id": "ecf833be-de5d-410a-b2c6-1026b8eaec42",
   "metadata": {},
   "source": [
    "<h1>k-armed bandits</h1>\n",
    "<h4>Model each bandit as a slot machine maximize the expected reward $E[R_k]$</h4>\n",
    "<h4>Doesnt specify if this is a $E_{max}[R_k]$ for a single bandit or E_{max}[\\sum R_k]</h4> \n",
    "<h4>Each of k-actions is a pull of a single lever and it returns a reward. A value or reward from an action is $q_*()$</h4>\n",
    "$q_*(a) \\doteq E[R_t | A_t=a]$\n",
    "<br />\n",
    "<h4>Notation: $q_*(a)$ is the value of an action, a</h4>\n",
    "<h4>Notation: $Q_t(a)$ is the estimate of q. An estimate is based on prior knowledge. If you pulled k for the first time\n",
    "then there is some probability you expect a reward. For $Q_t$ our estimate is based on $Q_{t-1}$</h4>\n",
    "<h4>Refining the knowleddge of Q is exploration. We can pull the lever 10 times, record each value and predict what Q_t is based on the past results.</h4>"
   ]
  },
  {
   "cell_type": "code",
   "execution_count": null,
   "id": "ef5e6e58-7c6c-41b8-bc64-45b265ff6d00",
   "metadata": {},
   "outputs": [],
   "source": []
  },
  {
   "cell_type": "code",
   "execution_count": null,
   "id": "edc3e2dc-ce42-4f92-bf33-7cc1221649e9",
   "metadata": {},
   "outputs": [],
   "source": []
  },
  {
   "cell_type": "code",
   "execution_count": null,
   "id": "c1f903d4-00d6-4312-ae01-65b48d90cba1",
   "metadata": {},
   "outputs": [],
   "source": []
  },
  {
   "cell_type": "markdown",
   "id": "b831cdff-f384-4b39-8414-9d03ad6babc8",
   "metadata": {},
   "source": [
    "<h2>Sample Averages</h2>\n",
    "<h4>What is N for Central Limit Theorem? </h4>\n",
    "<h4>Simulate a k armed bandit for ads. Assume there are 3 ads with different probabilities of returninisg a click. This is a binomial probablity and we want to develop some intuition on how to determine the actual probabilities. </h4>\n"
   ]
  },
  {
   "cell_type": "markdown",
   "id": "a0596ca5-33b6-4c35-b75f-125177afdb9c",
   "metadata": {},
   "source": [
    "<h1>Binomial PMF </h1>\n",
    "$P(N=n) = \\binom{\\,n}{N}p^N(1-p)^{n-N} $\n",
    "\n"
   ]
  },
  {
   "cell_type": "markdown",
   "id": "f46d293b-128d-4696-997c-6d054537bfdb",
   "metadata": {},
   "source": [
    "#https://github.com/christianversloot/machine-learning-articles/blob/main/simple-multi-options-a-b-n-test-with-multi-armed-bandit-in-python.md"
   ]
  },
  {
   "cell_type": "code",
   "execution_count": 130,
   "id": "ef265c7d-c648-4b41-b594-b1f3f47ad56e",
   "metadata": {},
   "outputs": [],
   "source": [
    "import numpy as np\n",
    "import matplotlib.pyplot as plt\n",
    "\n",
    "class Ads:\n",
    "    def __init__(self,p):\n",
    "        #(n, p, N)\n",
    "        # if leave N off what is default? \n",
    "        self.p=p\n",
    "    def click(self):\n",
    "        return np.random.binomial(1,self.p)\n",
    "    def simulate(self, num_trials=10, N=1):\n",
    "        for num in range(num_trials):\n",
    "            num_clicks = 0\n",
    "            for idx in range(N):\n",
    "                num_clicks += self.click()\n",
    "                #print(\"click\", click)\n",
    "            print(f\"{num_clicks/N}\")\n",
    "    def simulate_run(self):\n",
    "        self.simulate(num_trials=10, N=10)\n",
    "        print(\"*\"*10)\n",
    "        self.simulate(num_trials=10, N=100)\n",
    "        print(\"*\"*10)\n",
    "        self.simulate(num_trials=10, N=1000)\n",
    "        print(\"*\"*10)\n",
    "        self.simulate(num_trials=10, N=10000)\n",
    "    def q(self, q = 0, N=10):\n",
    "        num_clicks=0\n",
    "        for idx in range(N):\n",
    "            click = self.click    \n",
    "                "
   ]
  },
  {
   "cell_type": "code",
   "execution_count": 129,
   "id": "dc295e27-1355-4316-879f-b7a907564cdf",
   "metadata": {},
   "outputs": [
    {
     "name": "stdout",
     "output_type": "stream",
     "text": [
      "10 trials of 10 clicks see 0.1?\n",
      "0.2\n",
      "0.1\n",
      "0.0\n",
      "0.0\n",
      "0.0\n",
      "0.0\n",
      "0.0\n",
      "0.3\n",
      "0.1\n",
      "0.2\n",
      "**********\n",
      "10 trials of 100 clicks see 0.1?\n",
      "0.08\n",
      "0.09\n",
      "0.08\n",
      "0.12\n",
      "0.1\n",
      "0.12\n",
      "0.13\n",
      "0.09\n",
      "0.04\n",
      "0.15\n",
      "**********\n",
      "10 trials of 1000 clicks see 0.1?\n",
      "0.101\n",
      "0.107\n",
      "0.107\n",
      "0.085\n",
      "0.1\n",
      "0.092\n",
      "0.102\n",
      "0.098\n",
      "0.109\n",
      "0.083\n",
      "**********\n",
      "10 trials of 10000 clicks see 0.1?\n",
      "0.0958\n",
      "0.0951\n",
      "0.0975\n",
      "0.1019\n",
      "0.0966\n",
      "0.1039\n",
      "0.0984\n",
      "0.0995\n",
      "0.0959\n",
      "0.0999\n"
     ]
    }
   ],
   "source": [
    "#N=10 to get 0.1\n",
    "ad = Ads(0.1)\n",
    "N=10\n",
    "num_trials=10\n",
    "num_clicks = 0\n",
    "print(\"10 trials of 10 clicks see 0.1?\")\n",
    "for num in range(num_trials):\n",
    "    num_clicks = 0\n",
    "    for idx in range(N):\n",
    "        click =ad.click()\n",
    "        num_clicks += click\n",
    "        #print(\"click\", click)\n",
    "    print(f\"{num_clicks/N}\")\n",
    "print(\"*\"*10)\n",
    "print(\"10 trials of 100 clicks see 0.1?\")\n",
    "N=100\n",
    "num_clicks = 0\n",
    "for num in range(num_trials):\n",
    "    num_clicks = 0\n",
    "    for idx in range(N):\n",
    "        click =ad.click()\n",
    "        num_clicks += click\n",
    "        #print(\"click\", click)\n",
    "    print(f\"{num_clicks/N}\")\n",
    "print(\"*\"*10)\n",
    "print(\"10 trials of 1000 clicks see 0.1?\")\n",
    "N=1000\n",
    "\n",
    "for num in range(num_trials):\n",
    "    num_clicks = 0\n",
    "    for idx in range(N):\n",
    "        click =ad.click()\n",
    "        num_clicks += click\n",
    "        #print(\"click\", click)\n",
    "    print(f\"{num_clicks/N}\")\n",
    "N=10000\n",
    "num_clicks = 0\n",
    "print(\"*\"*10)\n",
    "print(\"10 trials of 10000 clicks see 0.1?\")\n",
    "for num in range(num_trials):\n",
    "    num_clicks = 0\n",
    "    for idx in range(N):\n",
    "        click =ad.click()\n",
    "        num_clicks += click\n",
    "        #print(\"click\", click)\n",
    "    print(f\"{num_clicks/N}\")\n"
   ]
  },
  {
   "cell_type": "markdown",
   "id": "5b326e3c-0509-42dd-ae0b-37f85e4ae282",
   "metadata": {},
   "source": [
    "<h4>See 1000 clicks every run produces .1. Use p-test to measure average? Averages follow a normal distribution. \n",
    "Simple metric 10 trial runs produce 0 error in sampling. So N is big enough @1000 for x.xx digit accuracy. </h4>"
   ]
  },
  {
   "cell_type": "code",
   "execution_count": 111,
   "id": "a3554ce7-aa16-44f0-be68-4db4b3da7e4f",
   "metadata": {},
   "outputs": [
    {
     "name": "stdout",
     "output_type": "stream",
     "text": [
      "0.0\n",
      "0.0\n",
      "0.1\n",
      "0.0\n",
      "0.0\n",
      "0.0\n",
      "0.0\n",
      "0.0\n",
      "0.0\n",
      "0.0\n",
      "**********\n",
      "0.02\n",
      "0.02\n",
      "0.02\n",
      "0.0\n",
      "0.0\n",
      "0.01\n",
      "0.01\n",
      "0.02\n",
      "0.0\n",
      "0.01\n",
      "**********\n",
      "0.007\n",
      "0.01\n",
      "0.003\n",
      "0.007\n",
      "0.01\n",
      "0.013\n",
      "0.005\n",
      "0.011\n",
      "0.014\n",
      "0.012\n",
      "**********\n",
      "0.0109\n",
      "0.0086\n",
      "0.0108\n",
      "0.0098\n",
      "0.0086\n",
      "0.0101\n",
      "0.0103\n",
      "0.0097\n",
      "0.0094\n",
      "0.0106\n"
     ]
    }
   ],
   "source": [
    "ad = Ads(0.01)\n",
    "ad.simulate_run()"
   ]
  },
  {
   "cell_type": "markdown",
   "id": "4edea282-238a-4908-9d28-b1d6a48e8b4f",
   "metadata": {},
   "source": [
    "<h2>Back to agents</h2>\n",
    "<h4>What is the problem? Find the highest perfoming ad? If there are 3 ads with .01, .02 and .001 CTRs do we want to find the single highest performing ad or do we want to optimize the return for all the clicks for all 3 ads? The book covers the first case but in reality we want the second case </h4>\n",
    "<h4>$Q(a)$ is the agent's estimate of the expected reward</h4>\n",
    "$Q(a) = E[R|A=a]$\n",
    "<h4>where R and A are random variables</h4>\n",
    "<br />\n",
    "<h4>We are going to compare Q using sample average vs. incremental updates</h4>\n",
    "<h4>Sample average</h4>\n",
    "The sample average is $Q_t(a) = \\frac{1}{N_t(a)}\\sum\\limits_{i=0}^{N_t(a)} r_i $\n",
    "<br/>\n",
    "this sample average is the same as the estimated probability \n",
    "<h4>Incremental update </h4>\n",
    "<br/>\n",
    "<h4>Define $Q_n$ as n-1 average rewards</h4>\n",
    "<br/>\n",
    "$Q_n = \\frac{R_1+R_2+R_3+...+R_{n-1}}{n-1}= \\frac{1}{n-1}\\sum\\limits_{i=1}^{n-1}R_i$\n",
    "<br/>\n",
    "$Q_{n+1} = \\frac{1}{n} \\sum\\limits_{i=1}^{n} R_i$\n",
    "<br/>\n",
    "\n",
    "$=\\frac{1}{n}(R_n + \\sum\\limits_{i=1}^{n-1}R_i)$\n",
    "<br/>\n",
    "$=\\frac{1}{n}(R_n + (n-1)\\frac{1}{n-1}\\sum\\limits_{i=1}^{n-1}R_i)$<br/>\n",
    "<br/>\n",
    "\n",
    "$=\\frac{1}{n}(R_n+(n-1)Q_n)$\n",
    "<br/>\n",
    "$=\\frac{1}{n}(R_n + nQ_n - Q_n)$\n",
    "<br/>\n",
    "$=Q_n+\\frac{1}{n}(R_n-Q_n)$\n",
    "<br/>\n",
    "<br />\n",
    "$Q_{t+1} (a) = Q_t (a) + \\alpha(r_t - Q_t(a))$\n",
    "<br/>\n",
    "\n",
    "<h4>$\\alpha = \\frac{1}{n}$</h4>\n"
   ]
  },
  {
   "cell_type": "code",
   "execution_count": 119,
   "id": "3e4fafe2-7a3c-4845-8ce4-a15389219883",
   "metadata": {},
   "outputs": [
    {
     "name": "stdout",
     "output_type": "stream",
     "text": [
      "result:[1669, 333, 2676] num_clicks:[3351, 3325, 3324]\n",
      "sample_avg:[0.49806028051327966, 0.10015037593984961, 0.8050541516245487]\n"
     ]
    }
   ],
   "source": [
    "\n",
    "# not tracking the right N, each ad has separate N\n",
    "ads_on_page = [Ads(0.5), Ads(0.1),Ads(0.8)]\n",
    "result = [0,0,0]\n",
    "\n",
    "sample_avg = [0,0,0]\n",
    "num_clicks=[0,0,0]\n",
    "total_clicks=0\n",
    "#sample_avg_for_plt=[[],[],[]]\n",
    "# q1 = 0 + .5(1-0) = 0 + .5 = 0.5\n",
    "# q2 = 0.5 + .5(0 - .5)\n",
    "#misleading. can clidk on only 1 ad\n",
    "for x in range(10000):\n",
    "    click = np.random.randint(0,len(ads_on_page))\n",
    "    num_clicks[click] +=1\n",
    "    res = ads_on_page[ click ].click()\n",
    "    if res==1:\n",
    "        total_clicks += 1\n",
    "    #print(f\"click:{click}, res:{res}\")\n",
    "    result[click] += res\n",
    "    #print(f\"click:{click} result:{result}\")\n",
    "print(f\"result:{result} num_clicks:{num_clicks}\")\n",
    "\n",
    "for idx, _ in enumerate(result):\n",
    "    sample_avg[idx] = (1/num_clicks[idx])*result[idx]\n",
    "print(f\"sample_avg:{sample_avg}\")\n",
    "assert(total_clicks == np.sum(result))\n",
    "#print(\"plot data:\",sample_avg_for_plt)"
   ]
  },
  {
   "cell_type": "code",
   "execution_count": 125,
   "id": "a45f1a56-9365-4519-866f-49c0ffc8c2a3",
   "metadata": {},
   "outputs": [
    {
     "name": "stdout",
     "output_type": "stream",
     "text": [
      "q:[0.5144694533762053, 0.09065934065934063, 0.8061538461538459]\n",
      "312 365 326\n"
     ]
    },
    {
     "data": {
      "text/plain": [
       "[<matplotlib.lines.Line2D at 0x11fbab090>]"
      ]
     },
     "execution_count": 125,
     "metadata": {},
     "output_type": "execute_result"
    },
    {
     "data": {
      "image/png": "[encoded data removed]",
      "text/plain": [
       "<Figure size 640x480 with 1 Axes>"
      ]
     },
     "metadata": {},
     "output_type": "display_data"
    }
   ],
   "source": [
    "# increment rule \n",
    "import matplotlib.pyplot as plt\n",
    "q=[0,0,0]\n",
    "num_idx=[0,0,0]\n",
    "plt_data=[[0],[0],[0]]\n",
    "for idx in range(1000):\n",
    "    click = np.random.randint(0, len(ads_on_page))\n",
    "    num_idx[click] +=1 # this is not the number of impressions, running count of idx for plotting\n",
    "    reward = ads_on_page[ click ].click()\n",
    "    update = (1/num_idx[click])*(reward-q[click])\n",
    "    q[click] = q[click] + update\n",
    "    #print(f\"click:{click}, reward:{reward} q[click]:{q[click]} update:{update}\")\n",
    "    plt_data[click].append(q[click])\n",
    "print(f\"q:{q}\")\n",
    "print(len(plt_data[0]),len(plt_data[1]),len(plt_data[2]))\n",
    "plt.plot((plt_data[0]))\n",
    "plt.plot((plt_data[1]))\n",
    "plt.plot((plt_data[2]))\n"
   ]
  },
  {
   "cell_type": "code",
   "execution_count": 62,
   "id": "2adea1a4-371d-46c5-a84c-09d846f8fd31",
   "metadata": {},
   "outputs": [
    {
     "name": "stdout",
     "output_type": "stream",
     "text": [
      "0\n",
      "1\n",
      "2\n",
      "0.5 foundFirst:2\n",
      "3\n",
      "4\n",
      "5\n",
      "6\n",
      "7\n",
      "8\n",
      "9\n",
      "10\n",
      "11\n",
      "12\n",
      "13\n",
      "14\n",
      "15\n",
      "16\n",
      "17\n",
      "18\n",
      "19\n",
      "20\n",
      "21\n",
      "22\n",
      "23\n",
      "24\n",
      "0.8 foundThird:5\n",
      "25\n",
      "26\n",
      "27\n",
      "28\n",
      "29\n",
      "0.09999999999999999 foundSecond:10\n",
      "stop 30\n",
      "N:[13, 10, 7] q:[0.4615384615384615, 0.09999999999999999, 0.8571428571428572]\n"
     ]
    }
   ],
   "source": [
    "import math\n",
    "\n",
    "q = [0,0,0]\n",
    "N = [0,0,0]\n",
    "\n",
    "foundFirst=False\n",
    "foundSecond=False\n",
    "foundThird=False\n",
    "\n",
    "for x in range(100):\n",
    "    if not foundFirst or not foundSecond or not foundThird:\n",
    "        print(x)\n",
    "        click_on_ad = np.random.randint(0, len(ads_on_page))\n",
    "        #print(click_on_ad) # between 0-2\n",
    "        res = ads_on_page[click_on_ad].click()\n",
    "        #print(f\"click on ad:{click_on_ad} is:{res}\")\n",
    "        N[click_on_ad] +=1\n",
    "        q[click_on_ad] += 1/N[click_on_ad] * (res - q[click_on_ad])\n",
    "        #print(f\"x:{x} q:{q} N:{N}\")\n",
    "        if (abs(q[0] - 0.5) < 0.01) and not foundFirst:\n",
    "            print(f\"{q[0]} foundFirst:{N[0]}\")\n",
    "            foundFirst=True\n",
    "        if (abs(q[1] - 0.1) < 0.01) and not foundSecond:\n",
    "            print(f\"{q[1]} foundSecond:{N[1]}\")\n",
    "            foundSecond=True\n",
    "        if (abs(q[2] - 0.8) < 0.01) and not foundThird:\n",
    "            print(f\"{q[2]} foundThird:{N[2]}\")\n",
    "            foundThird=True\n",
    "    else:\n",
    "        print(f\"stop {x}\")\n",
    "        break\n",
    "        \n",
    "print(f\"N:{N} q:{q}\")\n",
    "#it converges then if keep running it diverges"
   ]
  },
  {
   "cell_type": "markdown",
   "id": "c2122012-0b68-4d4f-b335-5dc139f37072",
   "metadata": {},
   "source": [
    "<a href=\"https://github.com/christianversloot/machine-learning-articles/blob/main/simple-multi-options-a-b-n-test-with-multi-armed-bandit-in-python.md />"
   ]
  },
  {
   "cell_type": "markdown",
   "id": "df592175-92bf-462a-b21d-7dc4ce3cbd8c",
   "metadata": {},
   "source": [
    "<h2>$\\epsilon$ greedy</h2>\n",
    "For stocastic rewards, distributions which change over time. \n",
    "\n",
    "<h4>Exercise 2.1 In greedy action selection, for the case of two actions and epsilon = 0.5, what is the probability that the greedy action is selected?</h4>\n",
    "\n",
    "<h4>Answer:</h4>\n",
    "if there are 2 actions and the greedy action ha probability $\\epsilon$ of being selected then the other non greedy action has probability $1-\\epsilon$ of being selected. If $\\epsilon is given as 0.5$ then the $P(greedy) = 0.5$ and $P(non greedy) = 1-\\epsilon = 0.5$\n",
    "<br/>\n"
   ]
  },
  {
   "cell_type": "markdown",
   "id": "8cd1b45c-d4dd-456c-8edf-c7f20c6150d4",
   "metadata": {},
   "source": [
    "<h2 span style=\"color:red\">Warning: the chatgpt answer for 2.2 is incorrect. Does not get N correct</span></h2>"
   ]
  },
  {
   "cell_type": "markdown",
   "id": "7119a77b-9d74-49d3-b5c4-0ddd1f2b8d57",
   "metadata": {},
   "source": [
    "<h4>Exercise 2.2 Bandit example Consider a k-armed bandit problem with k = 4 actions, denoted 1, 2, 3, and 4. Consider applying to this problem a bandit algorithm using $\\epsilon$ greedy action selection, sample-average action-value estimates, and initial estimates of Q1(a) = 0, for all a. Suppose the initial sequence of actions and rewards is A1 = 1, R1 =-1,A2 =2,R2 =1,A3 =2,R3 =-2,A4 =2,R4 =2,A5 =3,R5 =0. On some of these time steps the $\\epsilon$ case may have occurred, causing an action to be selected at random. On which time steps did this definitely occur? On which time steps could this possibly have occurred?</h4>\n",
    "<h4>Answer:</h4>\n",
    "<h4>There are 4 arms. </h4>\n",
    "<br/>\n",
    "<h4>Use notation N(1) is number of times arm 1-4 clicked, N(1)=1, N(2)=0, N(3)=0, N(4)=0</h4>\n",
    "means arm 1 was selected once and arms 2,3,4 have no actions. \n",
    "<br />\n",
    "<br />\n",
    "<h4>Time t=1</h4>\n",
    "<h4>select arm1</h4>\n",
    "<h4>We saw in the simulation session the sample avg is $\\frac{1}{num\\_clicks}\\sum\\limits_{i=0}^{num\\_clicks}(R)$ where the num clicks is the number of times the arm is selected. It isn't the number of time steps. In time step 1 arm1 is selected followed by arm2 3 times then arm3 then no arms in time step 5</h4>\n",
    "<br/ >\n",
    "$Q_1(A=a1, arm1) = 0,Q_1(A=a2, arm2) = 0,Q_1(A=a3, arm3) = 0,Q_1(A=a4,arm4) = 0$\n",
    "<br />\n",
    "<h4>N for arm1 is 1, N(1)=1</h4>\n",
    "<h4>select arm1, R=-1 ,the sample avg is $\\frac{1}{N(1)=1}\\sum(R) = \\frac{1}{1}*(0-1)=-1$</h4>\n",
    "$Q=(-1,0,0,0)$\n",
    "<h4>Time t=2</h4>\n",
    "<h4>N for arm2 is 1, N(2)=1</h4>\n",
    "<h4>select arm2, R=1 ,the sample avg is $\\frac{1}{1}\\sum(R) = \\frac{1}{1}*(0+1)=1$</h4>\n",
    "$Q=(-1,1,0,0)$\n",
    "<br />\n",
    "<h4>Time t=3</h4>\n",
    "<h4>N for arm2 is 2, N(2)=2</h4>\n",
    "<h4>select arm2, R= -2 ,the sample avg is $\\frac{1}{2}\\sum(R) = \\frac{1}{2}*(0+1-2)=-0.5$</h4>\n",
    "$Q=(-1,-0.5,0,0)$\n",
    "<br />\n",
    "<h4>Time t=4</h4>\n",
    "<h4>N for arm2 is 3, N(2)=3</h4>\n",
    "<h4>select arm2, R=2 ,the sample avg is $\\frac{1}{3}\\sum(R) = \\frac{1}{3}*(0+1-2+2)= 0.33$</h4>\n",
    "$Q=(-1,1/3,0,0)$\n",
    "<br />\n",
    "<h4>Time t=5</h4>\n",
    "<h4>N for arm3 is 1, N(3)=1</h4>\n",
    "<h4>select arm2, R=2 ,the sample avg is $\\frac{1}{3}\\sum(R) = \\frac{1}{1}*(0+1)= 1$</h4>\n",
    "$Q=(-1,1/3,1,0)$\n",
    "<br />\n",
    "<h4>Time t=6</h4>\n",
    "<br />\n",
    "$Q=(-1,1/3,1,0)$\n",
    "<h4>no actions, state same as aboave </h4>\n"
   ]
  },
  {
   "cell_type": "markdown",
   "id": "8d63a913-e915-4bed-8d95-943cf9f20b76",
   "metadata": {},
   "source": [
    "<h4>Exercise 2.3 In the comparison shown in Figure 2.2, which method will perform best in the long run in terms of cumulative reward and probability of selecting the best action? How much better will it be? Express your answer quantitatively.</h4>\n"
   ]
  },
  {
   "cell_type": "code",
   "execution_count": null,
   "id": "78981695-cbde-4b96-857f-f9b412243d4e",
   "metadata": {},
   "outputs": [],
   "source": [
    "import torch\n",
    "import matplotlib.pyplot as plt\n",
    "\n",
    "torch.manual_seed(42)\n",
    "k = 10\n",
    "n_steps = 100\n",
    "n_runs = 200\n",
    "\n",
    "avg_rewards = torch.zeros(n_steps)\n",
    "\n",
    "for run in range(n_runs):\n",
    "    Q = torch.full((k,), 5.0)         # Optimistic initial values\n",
    "    N = torch.zeros(k)\n",
    "    true_means = torch.randn(k)       # N(0,1) for each arm\n",
    "    rewards = []\n",
    "\n",
    "    for t in range(n_steps):\n",
    "        action = torch.argmax(Q).item()\n",
    "        reward = torch.normal(true_means[action], 1.0).item()\n",
    "        N[action] += 1\n",
    "        Q[action] += (1 / N[action]) * (reward - Q[action])\n",
    "        rewards.append(reward)\n",
    "\n",
    "    avg_rewards += torch.tensor(rewards)\n",
    "\n",
    "avg_rewards /= n_runs\n",
    "\n",
    "plt.plot(avg_rewards)\n",
    "plt.axhline(0.0, color='r', linestyle='--', label=\"True Mean = 0\")\n",
    "plt.title(\"Optimistic Initialization: Reward Spikes (Exercise 2.6)\")\n",
    "plt.xlabel(\"Steps\")\n",
    "plt.ylabel(\"Average Reward\")\n",
    "plt.grid(True)\n",
    "plt.legend()\n",
    "plt.show()"
   ]
  },
  {
   "cell_type": "code",
   "execution_count": 126,
   "id": "d07a93ba-d128-4479-a7c0-501997d2314e",
   "metadata": {},
   "outputs": [
    {
     "data": {
      "image/png": "[encoded data removed]",
      "text/plain": [
       "<Figure size 640x480 with 1 Axes>"
      ]
     },
     "metadata": {},
     "output_type": "display_data"
    }
   ],
   "source": [
    "import torch\n",
    "import numpy as np\n",
    "import matplotlib.pyplot as plt\n",
    "\n",
    "# Parameters\n",
    "k = 10  # number of arms\n",
    "steps = 1000  # number of pulls\n",
    "epsilon = 0.1  # exploration rate\n",
    "true_means = torch.randn(k)  # true reward for each arm ~ N(0,1)\n",
    "\n",
    "# Agent state\n",
    "q_values = torch.zeros(k)  # estimated Q-values\n",
    "counts = torch.zeros(k)    # number of times each arm has been selected\n",
    "rewards = []\n",
    "\n",
    "# Bandit loop\n",
    "for t in range(steps):\n",
    "    # ε-greedy action selection\n",
    "    if torch.rand(1).item() < epsilon:\n",
    "        action = torch.randint(0, k, (1,)).item()  # explore\n",
    "    else:\n",
    "        action = torch.argmax(q_values).item()  # exploit\n",
    "\n",
    "    # Simulate reward from true distribution (Gaussian)\n",
    "    reward = torch.randn(1).item() + true_means[action]\n",
    "    rewards.append(reward)\n",
    "\n",
    "    # Update Q-value (sample average)\n",
    "    counts[action] += 1\n",
    "    q_values[action] += (reward - q_values[action]) / counts[action]\n",
    "\n",
    "# Plot average reward\n",
    "avg_reward = torch.cumsum(torch.tensor(rewards), dim=0) / torch.arange(1, steps + 1)\n",
    "plt.plot(avg_reward.numpy())\n",
    "plt.axhline(true_means.max().item(), linestyle='--', color='red', label='Best Arm Mean')\n",
    "plt.title(f'PyTorch ε-Greedy Bandit (ε={epsilon})')\n",
    "plt.xlabel('Steps')\n",
    "plt.ylabel('Average Reward')\n",
    "plt.legend()\n",
    "plt.grid()\n",
    "plt.show()\n"
   ]
  },
  {
   "cell_type": "code",
   "execution_count": 127,
   "id": "858a3c9f-632e-4a5a-abbe-d8d63cd2737d",
   "metadata": {},
   "outputs": [
    {
     "data": {
      "text/plain": [
       "1.8695240020751953"
      ]
     },
     "execution_count": 127,
     "metadata": {},
     "output_type": "execute_result"
    }
   ],
   "source": [
    "true_means.max().item()"
   ]
  },
  {
   "cell_type": "markdown",
   "id": "e7d7497f-3db4-4296-9a56-c6245e992ad7",
   "metadata": {},
   "source": [
    "#https://web.stanford.edu/~bvr/pubs/TS_Tutorial.pdf"
   ]
  },
  {
   "cell_type": "code",
   "execution_count": 2,
   "id": "745b3917-4282-4ee3-8488-2033da604247",
   "metadata": {},
   "outputs": [
    {
     "data": {
      "image/png": "[encoded data removed]",
      "text/plain": [
       "<Figure size 640x480 with 1 Axes>"
      ]
     },
     "metadata": {},
     "output_type": "display_data"
    }
   ],
   "source": [
    "import torch\n",
    "import matplotlib.pyplot as plt\n",
    "\n",
    "# Set seed for reproducibility\n",
    "torch.manual_seed(42)\n",
    "\n",
    "# True means and variances\n",
    "true_means = torch.tensor([1.0, 1.5, 1.2])\n",
    "true_vars  = torch.tensor([1.0, 4.0, 0.1])\n",
    "k = len(true_means)\n",
    "n_steps = 200\n",
    "\n",
    "# Initialize estimates and counts\n",
    "Q = torch.zeros(k)\n",
    "N = torch.zeros(k)\n",
    "\n",
    "# Reward history\n",
    "rewards = []\n",
    "\n",
    "# ε-greedy with ε=0.1\n",
    "epsilon = 0.1\n",
    "\n",
    "for step in range(n_steps):\n",
    "    if torch.rand(1).item() < epsilon:\n",
    "        action = torch.randint(0, k, (1,)).item()\n",
    "    else:\n",
    "        action = torch.argmax(Q).item()\n",
    "    \n",
    "    # Sample reward from N(μ, σ²)\n",
    "    reward = torch.normal(true_means[action], true_vars[action]**0.5).item()\n",
    "    \n",
    "    # Update estimate\n",
    "    N[action] += 1\n",
    "    Q[action] += (1 / N[action]) * (reward - Q[action])\n",
    "    \n",
    "    rewards.append(reward)\n",
    "\n",
    "# Plot\n",
    "plt.plot(torch.cumsum(torch.tensor(rewards), dim=0) / (torch.arange(n_steps) + 1), label='Average reward')\n",
    "plt.axhline(true_means.max().item(), color='r', linestyle='--', label='Optimal arm mean')\n",
    "plt.xlabel(\"Steps\")\n",
    "plt.ylabel(\"Average Reward\")\n",
    "plt.title(\"Effect of Variance in K-Armed Bandit\")\n",
    "plt.legend()\n",
    "plt.grid(True)\n",
    "plt.show()"
   ]
  },
  {
   "cell_type": "code",
   "execution_count": null,
   "id": "80585517-c0c5-413b-836d-16f2cc6d5e03",
   "metadata": {},
   "outputs": [],
   "source": [
    "import torch\n",
    "import matplotlib.pyplot as plt\n",
    "\n",
    "torch.manual_seed(42)\n",
    "k = 10\n",
    "n_steps = 100\n",
    "n_runs = 200\n",
    "\n",
    "avg_rewards = torch.zeros(n_steps)\n",
    "\n",
    "for run in range(n_runs):\n",
    "    Q = torch.full((k,), 5.0)         # Optimistic initial values\n",
    "    N = torch.zeros(k)\n",
    "    true_means = torch.randn(k)       # N(0,1) for each arm\n",
    "    rewards = []\n",
    "\n",
    "    for t in range(n_steps):\n",
    "        action = torch.argmax(Q).item()\n",
    "        reward = torch.normal(true_means[action], 1.0).item()\n",
    "        N[action] += 1\n",
    "        Q[action] += (1 / N[action]) * (reward - Q[action])\n",
    "        rewards.append(reward)\n",
    "\n",
    "    avg_rewards += torch.tensor(rewards)\n",
    "\n",
    "avg_rewards /= n_runs\n",
    "\n",
    "plt.plot(avg_rewards)\n",
    "plt.axhline(0.0, color='r', linestyle='--', label=\"True Mean = 0\")\n",
    "plt.title(\"Optimistic Initialization: Reward Spikes (Exercise 2.6)\")\n",
    "plt.xlabel(\"Steps\")\n",
    "plt.ylabel(\"Average Reward\")\n",
    "plt.grid(True)\n",
    "plt.legend()\n",
    "plt.show()"
   ]
  },
  {
   "cell_type": "markdown",
   "id": "fe170134-a860-4cf4-86bd-721c9fb94b51",
   "metadata": {},
   "source": [
    "<h4>Exercise 2.4 If the step-size parameters, $\\alpha_n$, are not constant, then the estimate Qn is a weighted average of previously received rewards with a weighting different from that given by (2.6). What is the weighting on each prior reward for the general case, analogous to (2.6), in terms of the sequence of step-size parameters?</h4>\n",
    "<h4>Answer: This problem wants a separate $\\alpha$ different for each step. Convert notation to $\\alpha_n$</h4>\n",
    "$Q_{n+1} = Q_n + \\alpha(R_n - Q_n)$\n",
    "<br />\n",
    "<h4>write out a couple steps to see recurrence relation</h4>\n",
    "$Q_0 = 0$\n",
    "<br />\n",
    "$Q_1 = Q_0 + \\alpha_0(R_0-Q_0)$\n",
    "<br />\n",
    "$=\\alpha_0(R_0)$\n",
    "<br />\n",
    "$Q_2 = Q_1 + \\alpha_1(R_1-Q_1)$\n",
    "<br />\n",
    "$=Q_1 + \\alpha_1(R_1 ) - \\alpha_1(Q_1)=Q_1-\\alpha_1(Q_1)+\\alpha_1(R_1)=(1-\\alpha_1)Q_1+\\alpha_1R_1$\n",
    "<br />\n",
    "$=$\n",
    "<br />\n",
    "$Q_3 = Q_2 + \\alpha_2(R_2-Q_2)$\n",
    "<br />\n",
    "$$\n",
    "<br />\n",
    "$$\n",
    "<br />\n"
   ]
  },
  {
   "cell_type": "code",
   "execution_count": null,
   "id": "d713b27d-5656-4e28-a29a-ea18908bae58",
   "metadata": {},
   "outputs": [],
   "source": [
    "$$\n",
    "<br />\n"
   ]
  },
  {
   "cell_type": "markdown",
   "id": "806e4bc3-23ed-4726-9632-fb21c54a6342",
   "metadata": {},
   "source": [
    "Exercise 2.5 (programming) Design and conduct an experiment to demonstrate the difficulties that sample-average methods have for nonstationary problems. Use a modified version of the 10-armed testbed in which all the $q_*(a)$ start out equal and then take independent random walks (say by adding a normally distributed increment with mean zero and standard deviation 0.01 to all the $q_*(a)$ on each step). Prepare plots like Figure 2.2 for an action-value method using sample averages, incrementally computed, and another action-value method using a constant step-size parameter, $\\alpha = 0.1$. Use $\\epsilon = 0.1$ and longer runs, say of 10,000 steps."
   ]
  },
  {
   "cell_type": "markdown",
   "id": "156cfe3b-73c7-406f-88e8-8d99c9b6b895",
   "metadata": {},
   "source": [
    "Exercise 2.6: Mysterious Spikes The results shown in Figure 2.3 should be quite reliable because they are averages over 2000 individual, randomly chosen 10-armed bandit tasks. Why, then, are there oscillations and spikes in the early part of the curve for the optimistic method? In other words, what might make this method perform particularly better or worse, on average, on particular early steps?"
   ]
  },
  {
   "cell_type": "markdown",
   "id": "b49c4d7a-77c3-4ce1-9eeb-9607b6f12673",
   "metadata": {},
   "source": [
    "Exercise 2.7: Unbiased Constant-Step-Size Trick In most of this chapter we have used sample averages to estimate action values because sample averages do not produce the initial bias that constant step sizes do (see the analysis leading to (2.6)). However, sample averages are not a completely satisfactory solution because they may perform poorly on nonstationary problems. Is it possible to avoid the bias of constant step sizes while retaining their advantages on nonstationary problems? One way is to use a step size of\n",
    "\u0000n =. ↵/o ̄n, (2.8) to process the nth reward for a particular action, where ↵ > 0 is a conventional constant\n",
    "step size, and o ̄n is a trace of one that starts at 0:\n",
    "o ̄n=.o ̄n\u00001+↵(1\u0000o ̄n\u00001), forn\u00000, witho ̄0=.0. (2.9)\n",
    "Carry out an analysis like that in (2.6) to show that Qn is an exponential recency-weighted average without initial bias."
   ]
  },
  {
   "cell_type": "markdown",
   "id": "18576a12-2df2-4ef6-932d-49b33e91e644",
   "metadata": {},
   "source": [
    "Exercise 2.8: UCB Spikes In Figure 2.4 the UCB algorithm shows a distinct spike in performance on the 11th step. Why is this? Note that for your answer to be fully satisfactory it must explain both why the reward increases on the 11th step and why it decreases on the subsequent steps. Hint: if c = 1, then the spike is less prominent."
   ]
  },
  {
   "cell_type": "markdown",
   "id": "052b80a1-a79b-42f6-adeb-802aa430a41d",
   "metadata": {},
   "source": [
    "Exercise 2.9 Show that in the case of two actions, the soft-max distribution is the same as that given by the logistic, or sigmoid, function often used in statistics and artificial neural networks."
   ]
  },
  {
   "cell_type": "markdown",
   "id": "6100060b-2ccd-4fce-a807-214b3046ddea",
   "metadata": {},
   "source": [
    "\n",
    "Exercise 2.10 Suppose you face a 2-armed bandit task whose true action values change randomly from time step to time step. Specifically, suppose that, for any time step, the true values of actions 1 and 2 are respectively 0.1 and 0.2 with probability 0.5 (case A), and 0.9 and 0.8 with probability 0.5 (case B). If you are not able to tell which case you face at any step, what is the best expectation of success you can achieve and how should you behave to achieve it? Now suppose that on each step you are told whether you are facing case A or case B (although you still don’t know the true action values). This is an associative search task. What is the best expectation of success you can achieve in this task, and how should you behave to achieve it?"
   ]
  },
  {
   "cell_type": "code",
   "execution_count": null,
   "id": "6f8fbe95-dc4d-4d60-bdf7-e8b296964498",
   "metadata": {},
   "outputs": [],
   "source": []
  }
 ],
 "metadata": {
  "kernelspec": {
   "display_name": "Python 3 (ipykernel)",
   "language": "python",
   "name": "python3"
  },
  "language_info": {
   "codemirror_mode": {
    "name": "ipython",
    "version": 3
   },
   "file_extension": ".py",
   "mimetype": "text/x-python",
   "name": "python",
   "nbconvert_exporter": "python",
   "pygments_lexer": "ipython3",
   "version": "3.11.11"
  }
 },
 "nbformat": 4,
 "nbformat_minor": 5
}
