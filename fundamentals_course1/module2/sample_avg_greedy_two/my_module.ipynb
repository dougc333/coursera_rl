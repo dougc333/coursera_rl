{
 "cells": [
  {
   "cell_type": "code",
   "execution_count": null,
   "id": "9460e6e9",
   "metadata": {},
   "outputs": [],
   "source": [
    "import torch\n",
    "import numpy as np  \n",
    "import matplotlib.pyplot as plt"
   ]
  },
  {
   "cell_type": "code",
   "execution_count": null,
   "id": "d5ea898b",
   "metadata": {},
   "outputs": [],
   "source": [
    "#input pull arm = state corresponding to wheels on bandit\n",
    "# take step(action) return a greedy or random action; should return a state and reward, state is display of wheels and reward is coin tray\n",
    "# reward can be same as state of wheels. Either win or lose. \n",
    "#\n",
    "class Bandit:\n",
    "  def __init__(self, n_arms):\n",
    "    self.n_arms = n_arms\n",
    "  def step(self, action):\n",
    "    return"
   ]
  },
  {
   "cell_type": "code",
   "execution_count": null,
   "id": "ab2bd20c",
   "metadata": {},
   "outputs": [],
   "source": [
    "class Agent:\n",
    "  def __init__(self, n_arms):\n",
    "    self.n_arms = n_arms"
   ]
  },
  {
   "cell_type": "code",
   "execution_count": null,
   "id": "8c02ca55",
   "metadata": {},
   "outputs": [],
   "source": [
    "$\\pi_t(a) = \\frac{e^{Q_t(a)/\\tau}}{\\sum_{b=1}^{k} e^{Q_t(b)/\\tau}}$"
   ]
  },
  {
   "cell_type": "markdown",
   "id": "9d3d7ba2",
   "metadata": {},
   "source": []
  },
  {
   "cell_type": "code",
   "execution_count": null,
   "id": "854775f5",
   "metadata": {},
   "outputs": [],
   "source": []
  },
  {
   "cell_type": "code",
   "execution_count": null,
   "id": "7aef5152",
   "metadata": {},
   "outputs": [],
   "source": []
  },
  {
   "cell_type": "code",
   "execution_count": null,
   "id": "53f25ce4",
   "metadata": {},
   "outputs": [],
   "source": []
  },
  {
   "cell_type": "code",
   "execution_count": null,
   "id": "0a853e93",
   "metadata": {},
   "outputs": [],
   "source": []
  }
 ],
 "metadata": {
  "language_info": {
   "name": "python"
  }
 },
 "nbformat": 4,
 "nbformat_minor": 5
}
