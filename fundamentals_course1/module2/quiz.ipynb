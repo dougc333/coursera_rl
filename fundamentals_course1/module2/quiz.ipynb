{
 "cells": [
  {
   "cell_type": "markdown",
   "id": "d1ed9a43-527a-403e-b48b-78ec966abdab",
   "metadata": {},
   "source": [
    "<img src=\"./images/m2_1.png\"/>"
   ]
  },
  {
   "cell_type": "markdown",
   "id": "96bbeb6a-0b4d-4a73-a658-3d0e1812c6a6",
   "metadata": {},
   "source": [
    "<img src= \"./images/m2_2.png\"/>"
   ]
  },
  {
   "cell_type": "markdown",
   "id": "05172b41-36ea-4086-a84b-2c48db16214c",
   "metadata": {},
   "source": [
    "<img src= \"./images/m2_3.png\"/>"
   ]
  },
  {
   "cell_type": "markdown",
   "id": "00f47b83-97ec-45c4-87dc-fb07dcf995e8",
   "metadata": {},
   "source": [
    "<img src= \"./images/m2_4.png\"/>"
   ]
  },
  {
   "cell_type": "markdown",
   "id": "ec8e0928-89f9-47a0-a099-b0caed93054e",
   "metadata": {},
   "source": [
    "<img src= \"./images/m2_5.png\"/>"
   ]
  },
  {
   "cell_type": "markdown",
   "id": "95d2d403-b0df-4758-879f-04800d05d779",
   "metadata": {},
   "source": [
    "<img src= \"./images/m2_6.png\"/>"
   ]
  },
  {
   "cell_type": "code",
   "execution_count": null,
   "id": "bc5e20b7-9cf9-4721-8b8c-41de5915c097",
   "metadata": {},
   "outputs": [],
   "source": []
  }
 ],
 "metadata": {
  "kernelspec": {
   "display_name": "Python 3 (ipykernel)",
   "language": "python",
   "name": "python3"
  },
  "language_info": {
   "codemirror_mode": {
    "name": "ipython",
    "version": 3
   },
   "file_extension": ".py",
   "mimetype": "text/x-python",
   "name": "python",
   "nbconvert_exporter": "python",
   "pygments_lexer": "ipython3",
   "version": "3.11.11"
  }
 },
 "nbformat": 4,
 "nbformat_minor": 5
}
